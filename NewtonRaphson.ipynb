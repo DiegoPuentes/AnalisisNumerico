{
  "nbformat": 4,
  "nbformat_minor": 0,
  "metadata": {
    "colab": {
      "provenance": [],
      "authorship_tag": "ABX9TyOKOE008DUvc7uisZ7HDEhO",
      "include_colab_link": true
    },
    "kernelspec": {
      "name": "python3",
      "display_name": "Python 3"
    },
    "language_info": {
      "name": "python"
    }
  },
  "cells": [
    {
      "cell_type": "markdown",
      "metadata": {
        "id": "view-in-github",
        "colab_type": "text"
      },
      "source": [
        "<a href=\"https://colab.research.google.com/github/DiegoPuentes/AnalisisNumerico/blob/main/NewtonRaphson.ipynb\" target=\"_parent\"><img src=\"https://colab.research.google.com/assets/colab-badge.svg\" alt=\"Open In Colab\"/></a>"
      ]
    },
    {
      "cell_type": "code",
      "execution_count": 3,
      "metadata": {
        "colab": {
          "base_uri": "https://localhost:8080/"
        },
        "id": "3pTARj9G7eoA",
        "outputId": "53010d84-e8e4-46af-d364-d92f31e9f795"
      },
      "outputs": [
        {
          "output_type": "stream",
          "name": "stdout",
          "text": [
            "Ingrese la función en términos de x: -exp(-x)-1\n",
            "Ingrese el valor inicial x0: 3\n",
            "\n",
            "Iteración | xi          | f(xi)       | f'(xi)      | xi+1\n",
            "------------------------------------------------------------\n",
            "1         | 3.0000     | -1.0498    | 0.0498     | 24.0855   \n",
            "\n",
            "⚠️ La derivada es demasiado pequeña. Newton-Raphson no puede continuar.\n",
            "\n",
            "✅ La raíz encontrada es: 24.085537 en 1 iteraciones\n"
          ]
        }
      ],
      "source": [
        "import sympy as sp\n",
        "import numpy as np\n",
        "\n",
        "# Entrada del usuario\n",
        "funcion = input(\"Ingrese la función en términos de x: \")\n",
        "x0 = float(input(\"Ingrese el valor inicial x0: \"))\n",
        "\n",
        "# Definición de la función y su derivada\n",
        "x = sp.Symbol('x')\n",
        "f = sp.sympify(funcion)\n",
        "f_deriv = sp.diff(f, x)\n",
        "\n",
        "# Parámetros del método\n",
        "xi = x0\n",
        "tol = 1e-4\n",
        "max_iter = 100\n",
        "\n",
        "print(\"\\nIteración | xi          | f(xi)       | f'(xi)      | xi+1\")\n",
        "print(\"-\" * 60)\n",
        "\n",
        "# Iteraciones de Newton-Raphson\n",
        "valores_x = [xi]\n",
        "\n",
        "try:\n",
        "    for i in range(max_iter):\n",
        "        f_val = f.subs(x, xi).evalf()\n",
        "        f_deriv_val = f_deriv.subs(x, xi).evalf()\n",
        "\n",
        "        if abs(f_deriv_val) < 1e-10:  # Comprobar si la derivada es muy pequeña\n",
        "            print(\"\\n⚠️ La derivada es demasiado pequeña. Newton-Raphson no puede continuar.\")\n",
        "            break\n",
        "\n",
        "        xi_next = xi - f_val / f_deriv_val\n",
        "        valores_x.append(xi_next)\n",
        "\n",
        "        print(f\"{i+1:<9} | {xi:<10.4f} | {f_val:<10.4f} | {f_deriv_val:<10.4f} | {xi_next:<10.4f}\")\n",
        "\n",
        "        if abs(xi_next - xi) < tol:\n",
        "            break\n",
        "\n",
        "        xi = xi_next\n",
        "\n",
        "    print(f\"\\n✅ La raíz encontrada es: {valores_x[-1]:.6f} en {len(valores_x) - 1} iteraciones\")\n",
        "\n",
        "except Exception as e:\n",
        "    print(f\"\\n❌ Error: {e}\")"
      ]
    }
  ]
}